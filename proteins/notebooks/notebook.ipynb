{
 "cells": [
  {
   "cell_type": "markdown",
   "id": "43077814",
   "metadata": {},
   "source": [
    "# PCA\n",
    "The Principle component Analysis allows to extract principal components which form a orthogonal basis where individual dimensions are linearly uncorrelated. This method is commonly used to dimensionality reduction. \n",
    "\n",
    "The dataset has a total of 952 features. We will see how many dimensions we can remove from the dataset to train simpler our model."
   ]
  },
  {
   "cell_type": "code",
   "execution_count": 21,
   "id": "4c119887",
   "metadata": {},
   "outputs": [],
   "source": [
    "# all import\n",
    "from sklearn.decomposition import PCA\n",
    "from sklearn.preprocessing import scale\n",
    "from matplotlib import pyplot as plt\n",
    "from pandas.plotting import scatter_matrix\n",
    "import pandas as pd\n",
    "import numpy as np"
   ]
  },
  {
   "cell_type": "code",
   "execution_count": 2,
   "id": "2bf5b8a4",
   "metadata": {},
   "outputs": [
    {
     "name": "stdout",
     "output_type": "stream",
     "text": [
      "2022-01-22 18:12:26,343 - kedro.framework.session.store - INFO - `read()` not implemented for `BaseSessionStore`. Assuming empty store.\n",
      "2022-01-22 18:12:26,363 - root - INFO - ** Kedro project proteins\n",
      "2022-01-22 18:12:26,364 - root - INFO - Defined global variable `context`, `session`, `catalog` and `pipelines`\n",
      "2022-01-22 18:12:26,372 - root - INFO - Registered line magic `run_viz`\n"
     ]
    }
   ],
   "source": [
    "%reload_kedro"
   ]
  },
  {
   "cell_type": "code",
   "execution_count": 5,
   "id": "0704be17",
   "metadata": {},
   "outputs": [
    {
     "name": "stdout",
     "output_type": "stream",
     "text": [
      "2022-01-22 18:13:19,908 - kedro.io.data_catalog - INFO - Loading data from `raw_X_train` (PickleDataSet)...\n"
     ]
    }
   ],
   "source": [
    "X = catalog.load(\"raw_X_train\")"
   ]
  },
  {
   "cell_type": "markdown",
   "id": "8614836a",
   "metadata": {},
   "source": [
    "We must scale our data to apply the PCA method because it based on the [Spectral Theorem](https://en.wikipedia.org/wiki/Spectral_theorem) which tells us to find principal components, data have to be scaled to be diagonalized in the algorithm."
   ]
  },
  {
   "cell_type": "code",
   "execution_count": 9,
   "id": "0e9416aa",
   "metadata": {},
   "outputs": [],
   "source": [
    "X_scaled = scale(X)"
   ]
  },
  {
   "cell_type": "code",
   "execution_count": 10,
   "id": "9904ba4b",
   "metadata": {},
   "outputs": [
    {
     "data": {
      "text/plain": [
       "PCA()"
      ]
     },
     "execution_count": 10,
     "metadata": {},
     "output_type": "execute_result"
    }
   ],
   "source": [
    "pca = PCA()\n",
    "pca.fit(X_scaled)"
   ]
  },
  {
   "cell_type": "code",
   "execution_count": 26,
   "id": "7c663152",
   "metadata": {},
   "outputs": [
    {
     "data": {
      "image/png": "[encoded data removed]",
      "text/plain": [
       "<Figure size 576x432 with 1 Axes>"
      ]
     },
     "metadata": {
      "needs_background": "light"
     },
     "output_type": "display_data"
    }
   ],
   "source": [
    "cumsum = np.cumsum(pca.explained_variance_ratio_)\n",
    "tol = 0.95\n",
    "d = np.argmax(cumsum >= tol) + 1\n",
    "plt.figure(figsize=(8, 6))\n",
    "plt.plot(cumsum, linewidth=3)\n",
    "plt.axis([0, 952, 0, 1])\n",
    "plt.xlabel(\"Dimensions\", fontsize=15)\n",
    "plt.ylabel(\"Explained Variance\", fontsize=15)\n",
    "plt.plot([d, d], [0, tol], \"k:\")\n",
    "plt.plot([0, d], [tol, tol], \"k:\")\n",
    "plt.plot(d, tol, \"ko\")\n",
    "plt.grid(True)\n",
    "plt.savefig(\"pca_reduction.png\", dpi=120)\n",
    "plt.show()"
   ]
  },
  {
   "cell_type": "markdown",
   "id": "fe60cd99",
   "metadata": {},
   "source": [
    "If we take a tolerance of 95%, that means we keep 95% of the information of our dataset, we have a little less 600 dimensions. In other words, we almost reduce dimensions by 37% !"
   ]
  }
 ],
 "metadata": {
  "kernelspec": {
   "display_name": "Python 3.7",
   "language": "python",
   "name": "py37"
  },
  "language_info": {
   "codemirror_mode": {
    "name": "ipython",
    "version": 3
   },
   "file_extension": ".py",
   "mimetype": "text/x-python",
   "name": "python",
   "nbconvert_exporter": "python",
   "pygments_lexer": "ipython3",
   "version": "3.7.11"
  }
 },
 "nbformat": 4,
 "nbformat_minor": 5
}
