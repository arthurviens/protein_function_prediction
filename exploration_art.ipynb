{
 "cells": [
  {
   "cell_type": "markdown",
   "metadata": {},
   "source": [
    "# Data exploration : Protein Function Prediction"
   ]
  },
  {
   "cell_type": "markdown",
   "metadata": {},
   "source": [
    "## Data Loading"
   ]
  },
  {
   "cell_type": "code",
   "execution_count": 1,
   "metadata": {},
   "outputs": [],
   "source": [
    "import numpy as np\n",
    "from zipfile import ZipFile\n",
    "from sklearn import linear_model, preprocessing\n",
    "from datetime import datetime\n",
    "\n",
    "debut = datetime.now()\n",
    "\n",
    "X = np.loadtxt(\"data/protein_train.data\")\n",
    "y = np.loadtxt(\"data/protein_train.solution\")\n",
    "\n",
    "X_test = np.loadtxt(\"data/protein_test.data\")\n",
    "X_valid = np.loadtxt(\"data/protein_valid.data\")"
   ]
  },
  {
   "cell_type": "markdown",
   "metadata": {},
   "source": [
    "## First Data description"
   ]
  },
  {
   "cell_type": "code",
   "execution_count": 2,
   "metadata": {},
   "outputs": [],
   "source": [
    "import scipy.stats\n",
    "import pandas as pd\n",
    "import matplotlib.pyplot as plt\n",
    "\n",
    "from utils import *"
   ]
  },
  {
   "cell_type": "code",
   "execution_count": 11,
   "metadata": {},
   "outputs": [
    {
     "name": "stdout",
     "output_type": "stream",
     "text": [
      "Memory size of X 385.8057861328125 MBytes\n"
     ]
    }
   ],
   "source": [
    "print(f\"Memory size of X {(X.itemsize * X.size) / 1024 ** 2} MBytes\")"
   ]
  },
  {
   "cell_type": "code",
   "execution_count": 3,
   "metadata": {},
   "outputs": [
    {
     "data": {
      "text/plain": [
       "((53118, 952), (53118,))"
      ]
     },
     "execution_count": 3,
     "metadata": {},
     "output_type": "execute_result"
    }
   ],
   "source": [
    "X.shape, y.shape"
   ]
  },
  {
   "cell_type": "code",
   "execution_count": 4,
   "metadata": {},
   "outputs": [],
   "source": [
    "scaler_std = preprocessing.StandardScaler(with_mean=False)\n",
    "scaler_std.fit(X)\n",
    "X_scaled_std = scaler_std.transform(X)"
   ]
  },
  {
   "cell_type": "code",
   "execution_count": 5,
   "metadata": {},
   "outputs": [
    {
     "data": {
      "text/html": [
       "<div>\n",
       "<style scoped>\n",
       "    .dataframe tbody tr th:only-of-type {\n",
       "        vertical-align: middle;\n",
       "    }\n",
       "\n",
       "    .dataframe tbody tr th {\n",
       "        vertical-align: top;\n",
       "    }\n",
       "\n",
       "    .dataframe thead th {\n",
       "        text-align: right;\n",
       "    }\n",
       "</style>\n",
       "<table border=\"1\" class=\"dataframe\">\n",
       "  <thead>\n",
       "    <tr style=\"text-align: right;\">\n",
       "      <th></th>\n",
       "      <th>0</th>\n",
       "      <th>1</th>\n",
       "      <th>2</th>\n",
       "      <th>3</th>\n",
       "      <th>4</th>\n",
       "      <th>5</th>\n",
       "      <th>6</th>\n",
       "      <th>7</th>\n",
       "      <th>8</th>\n",
       "      <th>9</th>\n",
       "      <th>...</th>\n",
       "      <th>942</th>\n",
       "      <th>943</th>\n",
       "      <th>944</th>\n",
       "      <th>945</th>\n",
       "      <th>946</th>\n",
       "      <th>947</th>\n",
       "      <th>948</th>\n",
       "      <th>949</th>\n",
       "      <th>950</th>\n",
       "      <th>951</th>\n",
       "    </tr>\n",
       "  </thead>\n",
       "  <tbody>\n",
       "    <tr>\n",
       "      <th>count</th>\n",
       "      <td>53118.000000</td>\n",
       "      <td>53118.000000</td>\n",
       "      <td>53118.000000</td>\n",
       "      <td>53118.000000</td>\n",
       "      <td>53118.000000</td>\n",
       "      <td>53118.000000</td>\n",
       "      <td>53118.000000</td>\n",
       "      <td>53118.000000</td>\n",
       "      <td>53118.000000</td>\n",
       "      <td>53118.000000</td>\n",
       "      <td>...</td>\n",
       "      <td>53118.000000</td>\n",
       "      <td>53118.000000</td>\n",
       "      <td>53118.000000</td>\n",
       "      <td>53118.000000</td>\n",
       "      <td>53118.000000</td>\n",
       "      <td>53118.000000</td>\n",
       "      <td>53118.000000</td>\n",
       "      <td>53118.000000</td>\n",
       "      <td>53118.000000</td>\n",
       "      <td>53118.000000</td>\n",
       "    </tr>\n",
       "    <tr>\n",
       "      <th>mean</th>\n",
       "      <td>2.668639</td>\n",
       "      <td>2.751477</td>\n",
       "      <td>2.353097</td>\n",
       "      <td>3.282547</td>\n",
       "      <td>2.234611</td>\n",
       "      <td>3.085485</td>\n",
       "      <td>1.996661</td>\n",
       "      <td>1.147431</td>\n",
       "      <td>1.859282</td>\n",
       "      <td>2.597294</td>\n",
       "      <td>...</td>\n",
       "      <td>1.268619</td>\n",
       "      <td>0.957275</td>\n",
       "      <td>-0.198331</td>\n",
       "      <td>-1.195411</td>\n",
       "      <td>1.231970</td>\n",
       "      <td>-1.295354</td>\n",
       "      <td>-1.258102</td>\n",
       "      <td>0.311701</td>\n",
       "      <td>0.921387</td>\n",
       "      <td>1.135651</td>\n",
       "    </tr>\n",
       "    <tr>\n",
       "      <th>std</th>\n",
       "      <td>1.000009</td>\n",
       "      <td>1.000009</td>\n",
       "      <td>1.000009</td>\n",
       "      <td>1.000009</td>\n",
       "      <td>1.000009</td>\n",
       "      <td>1.000009</td>\n",
       "      <td>1.000009</td>\n",
       "      <td>1.000009</td>\n",
       "      <td>1.000009</td>\n",
       "      <td>1.000009</td>\n",
       "      <td>...</td>\n",
       "      <td>1.000009</td>\n",
       "      <td>1.000009</td>\n",
       "      <td>1.000009</td>\n",
       "      <td>1.000009</td>\n",
       "      <td>1.000009</td>\n",
       "      <td>1.000009</td>\n",
       "      <td>1.000009</td>\n",
       "      <td>1.000009</td>\n",
       "      <td>1.000009</td>\n",
       "      <td>1.000009</td>\n",
       "    </tr>\n",
       "    <tr>\n",
       "      <th>min</th>\n",
       "      <td>0.000000</td>\n",
       "      <td>0.000000</td>\n",
       "      <td>0.000000</td>\n",
       "      <td>0.000000</td>\n",
       "      <td>0.000000</td>\n",
       "      <td>0.000000</td>\n",
       "      <td>0.000000</td>\n",
       "      <td>0.000000</td>\n",
       "      <td>0.000000</td>\n",
       "      <td>0.000000</td>\n",
       "      <td>...</td>\n",
       "      <td>0.010403</td>\n",
       "      <td>-2.025133</td>\n",
       "      <td>-62.597646</td>\n",
       "      <td>-48.378017</td>\n",
       "      <td>-0.445146</td>\n",
       "      <td>-39.500166</td>\n",
       "      <td>-50.935961</td>\n",
       "      <td>-12.595393</td>\n",
       "      <td>-1.331720</td>\n",
       "      <td>-1.095032</td>\n",
       "    </tr>\n",
       "    <tr>\n",
       "      <th>25%</th>\n",
       "      <td>2.005193</td>\n",
       "      <td>2.110927</td>\n",
       "      <td>1.651076</td>\n",
       "      <td>2.623935</td>\n",
       "      <td>1.606799</td>\n",
       "      <td>2.417092</td>\n",
       "      <td>1.363592</td>\n",
       "      <td>0.451840</td>\n",
       "      <td>1.208807</td>\n",
       "      <td>2.008755</td>\n",
       "      <td>...</td>\n",
       "      <td>0.628654</td>\n",
       "      <td>0.323165</td>\n",
       "      <td>-0.532378</td>\n",
       "      <td>-1.544028</td>\n",
       "      <td>0.584943</td>\n",
       "      <td>-1.712294</td>\n",
       "      <td>-1.624877</td>\n",
       "      <td>-0.153756</td>\n",
       "      <td>0.337234</td>\n",
       "      <td>0.506356</td>\n",
       "    </tr>\n",
       "    <tr>\n",
       "      <th>50%</th>\n",
       "      <td>2.598278</td>\n",
       "      <td>2.697296</td>\n",
       "      <td>2.251468</td>\n",
       "      <td>3.203641</td>\n",
       "      <td>2.195958</td>\n",
       "      <td>3.043746</td>\n",
       "      <td>1.868626</td>\n",
       "      <td>0.994047</td>\n",
       "      <td>1.717779</td>\n",
       "      <td>2.661600</td>\n",
       "      <td>...</td>\n",
       "      <td>1.051461</td>\n",
       "      <td>0.730786</td>\n",
       "      <td>-0.130343</td>\n",
       "      <td>-0.979152</td>\n",
       "      <td>1.013455</td>\n",
       "      <td>-1.096064</td>\n",
       "      <td>-1.034769</td>\n",
       "      <td>0.191463</td>\n",
       "      <td>0.708476</td>\n",
       "      <td>0.918205</td>\n",
       "    </tr>\n",
       "    <tr>\n",
       "      <th>75%</th>\n",
       "      <td>3.247848</td>\n",
       "      <td>3.361847</td>\n",
       "      <td>2.889384</td>\n",
       "      <td>3.874880</td>\n",
       "      <td>2.785118</td>\n",
       "      <td>3.670399</td>\n",
       "      <td>2.474667</td>\n",
       "      <td>1.626622</td>\n",
       "      <td>2.417614</td>\n",
       "      <td>3.214008</td>\n",
       "      <td>...</td>\n",
       "      <td>1.654493</td>\n",
       "      <td>1.341699</td>\n",
       "      <td>0.249682</td>\n",
       "      <td>-0.581172</td>\n",
       "      <td>1.641176</td>\n",
       "      <td>-0.632167</td>\n",
       "      <td>-0.626287</td>\n",
       "      <td>0.600720</td>\n",
       "      <td>1.264980</td>\n",
       "      <td>1.516228</td>\n",
       "    </tr>\n",
       "    <tr>\n",
       "      <th>max</th>\n",
       "      <td>13.245571</td>\n",
       "      <td>18.763797</td>\n",
       "      <td>12.495646</td>\n",
       "      <td>10.160119</td>\n",
       "      <td>15.585947</td>\n",
       "      <td>12.980680</td>\n",
       "      <td>23.585096</td>\n",
       "      <td>12.922610</td>\n",
       "      <td>17.814001</td>\n",
       "      <td>11.901872</td>\n",
       "      <td>...</td>\n",
       "      <td>48.762033</td>\n",
       "      <td>44.645032</td>\n",
       "      <td>10.848220</td>\n",
       "      <td>0.024604</td>\n",
       "      <td>46.168808</td>\n",
       "      <td>1.023037</td>\n",
       "      <td>0.147686</td>\n",
       "      <td>48.899170</td>\n",
       "      <td>49.855905</td>\n",
       "      <td>41.080819</td>\n",
       "    </tr>\n",
       "  </tbody>\n",
       "</table>\n",
       "<p>8 rows × 952 columns</p>\n",
       "</div>"
      ],
      "text/plain": [
       "                0             1             2             3             4    \\\n",
       "count  53118.000000  53118.000000  53118.000000  53118.000000  53118.000000   \n",
       "mean       2.668639      2.751477      2.353097      3.282547      2.234611   \n",
       "std        1.000009      1.000009      1.000009      1.000009      1.000009   \n",
       "min        0.000000      0.000000      0.000000      0.000000      0.000000   \n",
       "25%        2.005193      2.110927      1.651076      2.623935      1.606799   \n",
       "50%        2.598278      2.697296      2.251468      3.203641      2.195958   \n",
       "75%        3.247848      3.361847      2.889384      3.874880      2.785118   \n",
       "max       13.245571     18.763797     12.495646     10.160119     15.585947   \n",
       "\n",
       "                5             6             7             8             9    \\\n",
       "count  53118.000000  53118.000000  53118.000000  53118.000000  53118.000000   \n",
       "mean       3.085485      1.996661      1.147431      1.859282      2.597294   \n",
       "std        1.000009      1.000009      1.000009      1.000009      1.000009   \n",
       "min        0.000000      0.000000      0.000000      0.000000      0.000000   \n",
       "25%        2.417092      1.363592      0.451840      1.208807      2.008755   \n",
       "50%        3.043746      1.868626      0.994047      1.717779      2.661600   \n",
       "75%        3.670399      2.474667      1.626622      2.417614      3.214008   \n",
       "max       12.980680     23.585096     12.922610     17.814001     11.901872   \n",
       "\n",
       "       ...           942           943           944           945  \\\n",
       "count  ...  53118.000000  53118.000000  53118.000000  53118.000000   \n",
       "mean   ...      1.268619      0.957275     -0.198331     -1.195411   \n",
       "std    ...      1.000009      1.000009      1.000009      1.000009   \n",
       "min    ...      0.010403     -2.025133    -62.597646    -48.378017   \n",
       "25%    ...      0.628654      0.323165     -0.532378     -1.544028   \n",
       "50%    ...      1.051461      0.730786     -0.130343     -0.979152   \n",
       "75%    ...      1.654493      1.341699      0.249682     -0.581172   \n",
       "max    ...     48.762033     44.645032     10.848220      0.024604   \n",
       "\n",
       "                946           947           948           949           950  \\\n",
       "count  53118.000000  53118.000000  53118.000000  53118.000000  53118.000000   \n",
       "mean       1.231970     -1.295354     -1.258102      0.311701      0.921387   \n",
       "std        1.000009      1.000009      1.000009      1.000009      1.000009   \n",
       "min       -0.445146    -39.500166    -50.935961    -12.595393     -1.331720   \n",
       "25%        0.584943     -1.712294     -1.624877     -0.153756      0.337234   \n",
       "50%        1.013455     -1.096064     -1.034769      0.191463      0.708476   \n",
       "75%        1.641176     -0.632167     -0.626287      0.600720      1.264980   \n",
       "max       46.168808      1.023037      0.147686     48.899170     49.855905   \n",
       "\n",
       "                951  \n",
       "count  53118.000000  \n",
       "mean       1.135651  \n",
       "std        1.000009  \n",
       "min       -1.095032  \n",
       "25%        0.506356  \n",
       "50%        0.918205  \n",
       "75%        1.516228  \n",
       "max       41.080819  \n",
       "\n",
       "[8 rows x 952 columns]"
      ]
     },
     "execution_count": 5,
     "metadata": {},
     "output_type": "execute_result"
    }
   ],
   "source": [
    "desc = pd.DataFrame(X_scaled).describe()\n",
    "desc"
   ]
  },
  {
   "cell_type": "code",
   "execution_count": 7,
   "metadata": {},
   "outputs": [
    {
     "name": "stdout",
     "output_type": "stream",
     "text": [
      "31 outliers deleted\n"
     ]
    },
    {
     "data": {
      "image/png": "[encoded data removed]",
      "text/plain": [
       "<Figure size 432x288 with 1 Axes>"
      ]
     },
     "metadata": {
      "needs_background": "light"
     },
     "output_type": "display_data"
    },
    {
     "name": "stdout",
     "output_type": "stream",
     "text": [
      "45 outliers deleted\n"
     ]
    },
    {
     "data": {
      "image/png": "[encoded data removed]",
      "text/plain": [
       "<Figure size 432x288 with 1 Axes>"
      ]
     },
     "metadata": {
      "needs_background": "light"
     },
     "output_type": "display_data"
    },
    {
     "name": "stdout",
     "output_type": "stream",
     "text": [
      "32 outliers deleted\n"
     ]
    },
    {
     "data": {
      "image/png": "[encoded data removed]",
      "text/plain": [
       "<Figure size 432x288 with 1 Axes>"
      ]
     },
     "metadata": {
      "needs_background": "light"
     },
     "output_type": "display_data"
    },
    {
     "name": "stdout",
     "output_type": "stream",
     "text": [
      "32 outliers deleted\n"
     ]
    },
    {
     "data": {
      "image/png": "[encoded data removed]",
      "text/plain": [
       "<Figure size 432x288 with 1 Axes>"
      ]
     },
     "metadata": {
      "needs_background": "light"
     },
     "output_type": "display_data"
    },
    {
     "name": "stdout",
     "output_type": "stream",
     "text": [
      "31 outliers deleted\n"
     ]
    },
    {
     "data": {
      "image/png": "[encoded data removed]",
      "text/plain": [
       "<Figure size 432x288 with 1 Axes>"
      ]
     },
     "metadata": {
      "needs_background": "light"
     },
     "output_type": "display_data"
    },
    {
     "name": "stdout",
     "output_type": "stream",
     "text": [
      "13 outliers deleted\n"
     ]
    },
    {
     "data": {
      "image/png": "[encoded data removed]",
      "text/plain": [
       "<Figure size 432x288 with 1 Axes>"
      ]
     },
     "metadata": {
      "needs_background": "light"
     },
     "output_type": "display_data"
    }
   ],
   "source": [
    "def describe_histograms(desc, rm_outliers=True):\n",
    "    for line in desc.index[1:].drop(\"std\"):\n",
    "        values = desc.loc[line]\n",
    "        if rm_outliers:\n",
    "            values = remove_outliers(values)\n",
    "        values.hist(bins=50)\n",
    "        plt.title(f\"Distribution of {line} values\")\n",
    "        plt.show()\n",
    "\n",
    "describe_histograms(desc)"
   ]
  },
  {
   "cell_type": "code",
   "execution_count": null,
   "metadata": {},
   "outputs": [],
   "source": []
  },
  {
   "cell_type": "code",
   "execution_count": null,
   "metadata": {},
   "outputs": [],
   "source": []
  }
 ],
 "metadata": {
  "interpreter": {
   "hash": "61d0af4f96f92a07909e9ec9fa11fb4c1c9e8faafb4e728ec48f4e5566b9846a"
  },
  "kernelspec": {
   "display_name": "Python 3.9.7 64-bit ('rsvd': conda)",
   "language": "python",
   "name": "python3"
  },
  "language_info": {
   "codemirror_mode": {
    "name": "ipython",
    "version": 3
   },
   "file_extension": ".py",
   "mimetype": "text/x-python",
   "name": "python",
   "nbconvert_exporter": "python",
   "pygments_lexer": "ipython3",
   "version": "3.9.7"
  },
  "orig_nbformat": 4
 },
 "nbformat": 4,
 "nbformat_minor": 2
}
