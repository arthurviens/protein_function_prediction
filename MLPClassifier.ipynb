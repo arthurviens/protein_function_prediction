{
 "cells": [
  {
   "cell_type": "code",
   "execution_count": 1,
   "id": "bec7acb4",
   "metadata": {},
   "outputs": [],
   "source": [
    "import pandas as pd\n",
    "import numpy as np\n",
    "import matplotlib.pyplot as plt\n",
    "import torch\n",
    "import torch.nn as nn\n",
    "\n",
    "from utils import *"
   ]
  },
  {
   "cell_type": "code",
   "execution_count": 2,
   "id": "33eb4d15",
   "metadata": {},
   "outputs": [
    {
     "name": "stdout",
     "output_type": "stream",
     "text": [
      "GPU available ? True\n"
     ]
    }
   ],
   "source": [
    "print(f\"GPU available ? {torch.cuda.is_available()}\")\n",
    "\n",
    "#  use gpu if available\n",
    "device = torch.device(\"cuda\" if torch.cuda.is_available() else \"cpu\")"
   ]
  },
  {
   "cell_type": "code",
   "execution_count": 3,
   "id": "94cf868b",
   "metadata": {},
   "outputs": [],
   "source": [
    "from torch.utils.data import Dataset, DataLoader, random_split\n",
    "from torch.utils.data import WeightedRandomSampler\n",
    "from sklearn.preprocessing import StandardScaler\n",
    "from sklearn.decomposition import PCA\n",
    "from sklearn.model_selection import train_test_split\n",
    "\n",
    "class CustomDataset(Dataset):\n",
    "    def __init__(self, X, y):\n",
    "        self.X = X\n",
    "        self.y = y\n",
    "        \n",
    "    def __len__(self):\n",
    "        return self.X.shape[0]\n",
    "    \n",
    "    def __getitem__(self, idx):\n",
    "        x = self.X[idx, :]\n",
    "        tensor = torch.from_numpy(x).float()\n",
    "        class_id = self.y[idx]\n",
    "        class_id = torch.tensor([class_id]).float()\n",
    "        return tensor, class_id\n",
    "        \n",
    "    def getY(self):\n",
    "        return self.y\n",
    "    \n",
    "class Data_Loaders():\n",
    "    def __init__(self, batch_size, test_size=0.2, scaling=True, weighting=True):\n",
    "        self.weighting=weighting\n",
    "        self.scaling=scaling\n",
    "        \n",
    "        X = np.loadtxt(\"data/protein_train.data\")\n",
    "        y = np.loadtxt(\"data/protein_train.solution\")\n",
    "        \n",
    "        #X_test__ = np.loadtxt(\"data/protein_test.data\")\n",
    "        #X_valid__ = np.loadtxt(\"data/protein_valid.data\")\n",
    "        print(\"Data Loaded\")\n",
    "\n",
    "        X = remove_hard_corrs(X)\n",
    "        \n",
    "        X_train, X_test, y_train, y_test = train_test_split(X, y, test_size=test_size, stratify=y, random_state=113)\n",
    "\n",
    "        if scaling:\n",
    "            self.scaler=StandardScaler()\n",
    "            X_train = self.scaler.fit_transform(X_train)\n",
    "            X_test = self.scaler.transform(X_test)\n",
    "            #X_test__ = self.scaler.transform(X_test__)\n",
    "            #X_valid__ = self.scaler.transform(X_valid__)\n",
    "            print(\"Data standardized\")\n",
    "        \n",
    "        self.train_set = CustomDataset(X_train, y_train)\n",
    "        self.test_set = CustomDataset(X_test, y_test)\n",
    "        \n",
    "        \n",
    "        # Weighting\n",
    "        if weighting:\n",
    "            target_list = y_train\n",
    "            _, counts = np.unique(target_list, return_counts=True)\n",
    "            class_weights = [1 - (x / sum(counts)) for x in counts]\n",
    "            class_weights = torch.tensor(class_weights).float().to(device)\n",
    "            class_weights_all = class_weights[target_list]\n",
    "\n",
    "            weighted_sampler = WeightedRandomSampler(\n",
    "                weights=class_weights_all,\n",
    "                num_samples=len(class_weights_all),\n",
    "                replacement=True\n",
    "            )\n",
    "            \n",
    "            self.train_loader = DataLoader(self.train_set, batch_size=batch_size, sampler=weighted_sampler)\n",
    "            print(\"Using weighted train set\")\n",
    "        \n",
    "        else:\n",
    "            self.train_loader = DataLoader(self.train_set, batch_size=batch_size)\n",
    "            \n",
    "        self.test_loader = DataLoader(self.test_set, batch_size=1)\n"
   ]
  },
  {
   "cell_type": "code",
   "execution_count": 4,
   "id": "62100a20",
   "metadata": {},
   "outputs": [
    {
     "name": "stdout",
     "output_type": "stream",
     "text": [
      "Data Loaded\n",
      "Removed 11 useless columns\n",
      "Data standardized\n",
      "Using weighted train set\n"
     ]
    }
   ],
   "source": [
    "dataset = Data_Loaders(64, scaling=True, weighting=True)"
   ]
  },
  {
   "cell_type": "code",
   "execution_count": 10,
   "id": "db1cbae1",
   "metadata": {},
   "outputs": [],
   "source": [
    "from sklearn.metrics import balanced_accuracy_score\n",
    "\n",
    "\n",
    "class BinaryMLP(nn.Module):\n",
    "    def __init__(self, **kwargs):\n",
    "        super().__init__()\n",
    "        self.hidden_layer_1 = nn.Linear(\n",
    "            in_features=kwargs[\"input_shape\"], out_features=256\n",
    "        )\n",
    "        self.batchnorm1 = nn.BatchNorm1d(256)\n",
    "        self.dropout1 = nn.Dropout(p=0.1)\n",
    "        \n",
    "        self.hidden_layer_2 = nn.Linear(\n",
    "            in_features=256, out_features=128\n",
    "        )\n",
    "        self.dropout2 = nn.Dropout(p=0.1)\n",
    "        \n",
    "        self.batchnorm2 = nn.BatchNorm1d(128)\n",
    "        \n",
    "        self.out_layer = nn.Linear(\n",
    "            in_features=128, out_features=1\n",
    "        )\n",
    "        \n",
    "\n",
    "    def forward(self, features):\n",
    "        x = self.hidden_layer_1(features)\n",
    "        x = self.batchnorm1(x)\n",
    "        x = self.dropout1(x)\n",
    "        x = torch.relu(x)\n",
    "        x = self.hidden_layer_2(x)\n",
    "        x = self.batchnorm2(x)\n",
    "        x = self.dropout2(x)\n",
    "        x = torch.relu(x)\n",
    "        out = torch.sigmoid(self.out_layer(x))\n",
    "        return out\n",
    "    \n",
    "\n",
    "def binary_acc(y_pred, y_test):\n",
    "    y_pred_tag = torch.round(y_pred)\n",
    "    y_pred_tag = y_pred_tag.detach().cpu().numpy().flatten()\n",
    "    y_test = y_test.cpu().numpy().flatten()\n",
    "    \n",
    "    acc = balanced_accuracy_score(y_pred_tag, y_test)\n",
    "    \n",
    "    acc = np.round(acc * 100, 2)\n",
    "    \n",
    "    return acc\n",
    "\n",
    "\"\"\"y_pred_tag = torch.round(y_pred)\n",
    "\n",
    "correct_results_sum = (y_pred_tag == y_test).sum().float()\n",
    "acc = correct_results_sum/y_test.shape[0]\n",
    "acc = torch.round(acc * 100)\n",
    "\n",
    "return acc\"\"\"\n",
    "\n",
    "\n",
    "base_size = 941\n",
    "\n",
    "# create a model from `AE` autoencoder class\n",
    "# load it to the specified device, either gpu or cpu\n",
    "model = BinaryMLP(input_shape=base_size).to(device)\n",
    "\n",
    "# create an optimizer object\n",
    "# Adam optimizer with learning rate 1e-3\n",
    "optimizer = torch.optim.Adam(model.parameters(), lr=1e-3, weight_decay=1e-5)\n",
    "\n",
    "# mean-squared error loss\n",
    "criterion = nn.BCELoss()"
   ]
  },
  {
   "cell_type": "code",
   "execution_count": null,
   "id": "1f28884a",
   "metadata": {},
   "outputs": [],
   "source": []
  },
  {
   "cell_type": "code",
   "execution_count": 11,
   "id": "e6a3fed2",
   "metadata": {},
   "outputs": [],
   "source": [
    "accuracy_stats = {\n",
    "    'train': [],\n",
    "    \"test\": []\n",
    "}\n",
    "loss_stats = {\n",
    "    'train': [],\n",
    "    \"test\": []\n",
    "}\n",
    "\n",
    "epochs=15"
   ]
  },
  {
   "cell_type": "code",
   "execution_count": 12,
   "id": "a70666c9",
   "metadata": {
    "scrolled": true
   },
   "outputs": [
    {
     "name": "stdout",
     "output_type": "stream",
     "text": [
      "Epoch 000: | Train Loss: 0.32039 | Train Acc: 86.382         | Test Loss: 0.26536| Test Acc: 88.564\n",
      "Epoch 001: | Train Loss: 0.15486 | Train Acc: 94.166         | Test Loss: 0.22746| Test Acc: 91.416\n",
      "Epoch 002: | Train Loss: 0.09448 | Train Acc: 96.679         | Test Loss: 0.22346| Test Acc: 93.072\n",
      "Epoch 003: | Train Loss: 0.06646 | Train Acc: 97.770         | Test Loss: 0.22897| Test Acc: 93.524\n",
      "Epoch 004: | Train Loss: 0.04929 | Train Acc: 98.406         | Test Loss: 0.25499| Test Acc: 93.025\n",
      "Epoch 005: | Train Loss: 0.03944 | Train Acc: 98.784         | Test Loss: 0.26661| Test Acc: 93.628\n",
      "Epoch 006: | Train Loss: 0.03399 | Train Acc: 98.842         | Test Loss: 0.26768| Test Acc: 93.844\n",
      "Epoch 007: | Train Loss: 0.02451 | Train Acc: 99.171         | Test Loss: 0.35380| Test Acc: 92.583\n",
      "Epoch 008: | Train Loss: 0.02466 | Train Acc: 99.189         | Test Loss: 0.35334| Test Acc: 94.023\n",
      "Epoch 009: | Train Loss: 0.02494 | Train Acc: 99.125         | Test Loss: 0.33116| Test Acc: 93.985\n",
      "Epoch 010: | Train Loss: 0.01565 | Train Acc: 99.471         | Test Loss: 0.41482| Test Acc: 92.950\n",
      "Epoch 011: | Train Loss: 0.01636 | Train Acc: 99.455         | Test Loss: 0.34902| Test Acc: 94.192\n",
      "Epoch 012: | Train Loss: 0.01678 | Train Acc: 99.470         | Test Loss: 0.34118| Test Acc: 93.882\n",
      "Epoch 013: | Train Loss: 0.01546 | Train Acc: 99.485         | Test Loss: 0.38159| Test Acc: 93.430\n",
      "Epoch 014: | Train Loss: 0.01780 | Train Acc: 99.440         | Test Loss: 0.37683| Test Acc: 94.522\n"
     ]
    }
   ],
   "source": [
    "import warnings\n",
    "warnings.filterwarnings(\"ignore\", category=UserWarning)\n",
    "\n",
    "for epoch in range(epochs):\n",
    "    loss = 0\n",
    "    epoch_acc = 0\n",
    "    for batch_features, batch_labels in dataset.train_loader:\n",
    "        # reshape mini-batch data to [N, 941] matrix\n",
    "        # load it to the active device\n",
    "        batch_features = batch_features.view(-1, base_size).to(device)\n",
    "        batch_labels = batch_labels.view(-1, 1).to(device)\n",
    "        \n",
    "        # reset the gradients back to zero\n",
    "        # PyTorch accumulates gradients on subsequent backward passes\n",
    "        optimizer.zero_grad()\n",
    "        \n",
    "        # compute reconstructions\n",
    "        outputs = model(batch_features)\n",
    "        \n",
    "        # compute training reconstruction loss\n",
    "        train_loss = criterion(outputs, batch_labels)\n",
    "        acc = binary_acc(outputs, batch_labels)\n",
    "        \n",
    "        # compute accumulated gradients\n",
    "        train_loss.backward()\n",
    "        \n",
    "        # perform parameter update based on current gradients\n",
    "        optimizer.step()\n",
    "        \n",
    "        # add the mini-batch training loss to epoch loss\n",
    "        loss += train_loss.item()\n",
    "        epoch_acc += acc.item()\n",
    "    \n",
    "    # compute the epoch training loss\n",
    "    epoch_loss = loss / len(dataset.train_loader)\n",
    "    epoch_acc = epoch_acc / len(dataset.train_loader)\n",
    "    accuracy_stats[\"train\"].append(epoch_acc)\n",
    "    loss_stats[\"train\"].append(epoch_loss)\n",
    "    \n",
    "    # VALIDATION    \n",
    "    with torch.no_grad():\n",
    "        \n",
    "        test_epoch_loss = 0\n",
    "        test_epoch_acc = 0\n",
    "        \n",
    "        model.eval()\n",
    "        for X_test_batch, y_test_batch in dataset.test_loader:\n",
    "            X_test_batch, y_test_batch = X_test_batch.to(device), y_test_batch.to(device)\n",
    "            \n",
    "            y_test_pred = model(X_test_batch)\n",
    "                        \n",
    "            test_loss = criterion(y_test_pred, y_test_batch)\n",
    "            test_acc = binary_acc(y_test_pred, y_test_batch)\n",
    "            \n",
    "            test_epoch_loss += test_loss.item()\n",
    "            test_epoch_acc += test_acc.item()\n",
    "        accuracy_stats[\"test\"].append(test_epoch_acc / len(dataset.test_loader))\n",
    "        loss_stats[\"test\"].append(test_epoch_loss / len(dataset.test_loader))\n",
    "    \n",
    "    # display the epoch training loss\n",
    "    print(f'Epoch {epoch+0:03}: | Train Loss: {epoch_loss:.5f} | Train Acc: {epoch_acc:.3f} \\\n",
    "        | Test Loss: {(test_epoch_loss / len(dataset.test_loader)):.5f}| Test Acc: {(test_epoch_acc / len(dataset.test_loader)):.3f}')\n",
    "    \n",
    "\n",
    "warnings.filterwarnings(\"default\", category=UserWarning)"
   ]
  },
  {
   "cell_type": "code",
   "execution_count": 13,
   "id": "ae17d68a",
   "metadata": {
    "scrolled": false
   },
   "outputs": [
    {
     "data": {
      "text/plain": [
       "Text(0.5, 1.0, 'Train-Test Loss/Epoch')"
      ]
     },
     "execution_count": 13,
     "metadata": {},
     "output_type": "execute_result"
    },
    {
     "data": {
      "image/png": "[encoded data removed]",
      "text/plain": [
       "<Figure size 1440x504 with 2 Axes>"
      ]
     },
     "metadata": {
      "needs_background": "light"
     },
     "output_type": "display_data"
    }
   ],
   "source": [
    "import seaborn as sns\n",
    "# Create dataframes\n",
    "train_test_acc_df = pd.DataFrame.from_dict(accuracy_stats).reset_index().melt(id_vars=['index']).rename(columns={\"index\":\"epochs\"})\n",
    "train_test_loss_df = pd.DataFrame.from_dict(loss_stats).reset_index().melt(id_vars=['index']).rename(columns={\"index\":\"epochs\"})\n",
    "# Plot the dataframes\n",
    "fig, axes = plt.subplots(nrows=1, ncols=2, figsize=(20,7))\n",
    "sns.lineplot(data=train_test_acc_df, x = \"epochs\", y=\"value\", hue=\"variable\",  ax=axes[0]).set_title('Train-Test Accuracy/Epoch')\n",
    "sns.lineplot(data=train_test_loss_df, x = \"epochs\", y=\"value\", hue=\"variable\", ax=axes[1]).set_title('Train-Test Loss/Epoch')"
   ]
  },
  {
   "cell_type": "code",
   "execution_count": 14,
   "id": "4cb76778",
   "metadata": {},
   "outputs": [
    {
     "name": "stdout",
     "output_type": "stream",
     "text": [
      "Balanced score is 0.9202424797201728\n"
     ]
    }
   ],
   "source": [
    "from sklearn.metrics import confusion_matrix\n",
    "\n",
    "y_pred_list = []\n",
    "y_test = []\n",
    "model.eval()\n",
    "with torch.no_grad():\n",
    "    for X_batch, y_batch in dataset.test_loader:\n",
    "        X_batch = X_batch.to(device)\n",
    "        y_test.append(y_batch.cpu().numpy())\n",
    "        y_test_pred = model(X_batch)\n",
    "        y_pred_tag = torch.round(y_test_pred)\n",
    "        y_pred_list.append(y_pred_tag.cpu().numpy())\n",
    "    y_test = np.asarray(y_test).flatten().tolist()\n",
    "y_pred_list = [a.squeeze().tolist() for a in y_pred_list]\n",
    "\n",
    "confusion_matrix(y_test, y_pred_list)\n",
    "print(f\"Balanced score is {balanced_accuracy_score(y_test, y_pred_list)}\")"
   ]
  },
  {
   "cell_type": "code",
   "execution_count": null,
   "id": "dfe68821",
   "metadata": {},
   "outputs": [],
   "source": []
  },
  {
   "cell_type": "code",
   "execution_count": null,
   "id": "03e7c160",
   "metadata": {},
   "outputs": [],
   "source": []
  }
 ],
 "metadata": {
  "kernelspec": {
   "display_name": "Python 3 (ipykernel)",
   "language": "python",
   "name": "python3"
  },
  "language_info": {
   "codemirror_mode": {
    "name": "ipython",
    "version": 3
   },
   "file_extension": ".py",
   "mimetype": "text/x-python",
   "name": "python",
   "nbconvert_exporter": "python",
   "pygments_lexer": "ipython3",
   "version": "3.9.7"
  }
 },
 "nbformat": 4,
 "nbformat_minor": 5
}
