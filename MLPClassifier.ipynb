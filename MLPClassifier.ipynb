{
 "cells": [
  {
   "cell_type": "code",
   "execution_count": 1,
   "id": "bec7acb4",
   "metadata": {},
   "outputs": [],
   "source": [
    "import pandas as pd\n",
    "import numpy as np\n",
    "import matplotlib.pyplot as plt\n",
    "import torch\n",
    "import torch.nn as nn\n",
    "\n",
    "from utils import *"
   ]
  },
  {
   "cell_type": "code",
   "execution_count": 2,
   "id": "33eb4d15",
   "metadata": {},
   "outputs": [
    {
     "data": {
      "text/plain": [
       "True"
      ]
     },
     "execution_count": 2,
     "metadata": {},
     "output_type": "execute_result"
    }
   ],
   "source": [
    "torch.cuda.is_available()"
   ]
  },
  {
   "cell_type": "code",
   "execution_count": 3,
   "id": "94cf868b",
   "metadata": {},
   "outputs": [],
   "source": [
    "from torch.utils.data import Dataset, DataLoader, random_split\n",
    "from torch.utils.data import WeightedRandomSampler\n",
    "from sklearn.preprocessing import StandardScaler\n",
    "from sklearn.decomposition import PCA\n",
    "from sklearn.model_selection import train_test_split\n",
    "\n",
    "class CustomDataset(Dataset):\n",
    "    def __init__(self, X, y):\n",
    "        self.X = X\n",
    "        self.y = y\n",
    "        \n",
    "    def __len__(self):\n",
    "        return self.X.shape[0]\n",
    "    \n",
    "    def __getitem__(self, idx):\n",
    "        x = self.X[idx, :]\n",
    "        tensor = torch.from_numpy(x).float()\n",
    "        class_id = self.y[idx]\n",
    "        class_id = torch.tensor([class_id]).float()\n",
    "        return tensor, class_id\n",
    "        \n",
    "    def getY(self):\n",
    "        return self.y\n",
    "    \n",
    "class Data_Loaders():\n",
    "    def __init__(self, batch_size, test_size=0.2, scaling=True, weighting=True):\n",
    "        self.weighting=weighting\n",
    "        self.scaling=scaling\n",
    "        \n",
    "        X = np.loadtxt(\"data/protein_train.data\")\n",
    "        y = np.loadtxt(\"data/protein_train.solution\")\n",
    "\n",
    "        #self.X_test__ = np.loadtxt(\"data/protein_test.data\")\n",
    "        #self.X_valid__ = np.loadtxt(\"data/protein_valid.data\")\n",
    "        print(\"Data Loaded\")\n",
    "        \n",
    "        X_train, X_test, y_train, y_test = train_test_split(X, y, test_size=test_size, stratify=y, random_state=113)\n",
    "\n",
    "        if scaling:\n",
    "            self.scaler=StandardScaler()\n",
    "            X_train = self.scaler.fit_transform(X_train)\n",
    "            X_test = self.scaler.transform(X_test)\n",
    "            #X_test__ = self.scaler.transform(X_test__)\n",
    "            #X_valid__ = self.scaler.transform(X_valid__)\n",
    "            print(\"Data standardized\")\n",
    "        \n",
    "        self.train_set = CustomDataset(X_train, y_train)\n",
    "        self.test_set = CustomDataset(X_test, y_test)\n",
    "        \n",
    "        \n",
    "        # Weighting\n",
    "        if weighting:\n",
    "            target_list = y_train\n",
    "            _, counts = np.unique(target_list, return_counts=True)\n",
    "            class_weights = [1 - (x / sum(counts)) for x in counts]\n",
    "            class_weights = torch.tensor(class_weights).float().to(device)\n",
    "            class_weights_all = class_weights[target_list]\n",
    "\n",
    "            weighted_sampler = WeightedRandomSampler(\n",
    "                weights=class_weights_all,\n",
    "                num_samples=len(class_weights_all),\n",
    "                replacement=True\n",
    "            )\n",
    "            \n",
    "            self.train_loader = DataLoader(self.train_set, batch_size=batch_size, sampler=weighted_sampler)\n",
    "        else:\n",
    "            self.train_loader = DataLoader(self.train_set, batch_size=batch_size)\n",
    "            \n",
    "        self.test_loader = DataLoader(self.test_set, batch_size=1)\n"
   ]
  },
  {
   "cell_type": "code",
   "execution_count": 4,
   "id": "62100a20",
   "metadata": {},
   "outputs": [
    {
     "name": "stdout",
     "output_type": "stream",
     "text": [
      "Data Loaded\n",
      "Data standardized\n"
     ]
    }
   ],
   "source": [
    "dataset = Data_Loaders(20, scaling=True, weighting=False)"
   ]
  },
  {
   "cell_type": "code",
   "execution_count": 5,
   "id": "db1cbae1",
   "metadata": {},
   "outputs": [],
   "source": [
    "from sklearn.metrics import balanced_accuracy_score\n",
    "\n",
    "\n",
    "class BinaryMLP(nn.Module):\n",
    "    def __init__(self, **kwargs):\n",
    "        super().__init__()\n",
    "        self.hidden_layer_1 = nn.Linear(\n",
    "            in_features=kwargs[\"input_shape\"], out_features=256\n",
    "        )\n",
    "        #self.batchnorm1 = nn.BatchNorm1d(256)\n",
    "        \n",
    "        self.hidden_layer_2 = nn.Linear(\n",
    "            in_features=256, out_features=128\n",
    "        )\n",
    "        \n",
    "        #self.batchnorm2 = nn.BatchNorm1d(128)\n",
    "        \n",
    "        self.out_layer = nn.Linear(\n",
    "            in_features=128, out_features=1\n",
    "        )\n",
    "\n",
    "    def forward(self, features):\n",
    "        x = self.hidden_layer_1(features)\n",
    "        #x = self.batchnorm1(x)\n",
    "        x = torch.relu(x)\n",
    "        x = self.hidden_layer_2(x)\n",
    "        #x = self.batchnorm2(x)\n",
    "        x = torch.relu(x)\n",
    "        out = torch.sigmoid(self.out_layer(x))\n",
    "        return out\n",
    "    \n",
    "\n",
    "def binary_acc(y_pred, y_test):\n",
    "    y_pred_tag = torch.round(y_pred)\n",
    "    y_pred_tag = y_pred_tag.detach().cpu().numpy().flatten()\n",
    "    y_test = y_test.cpu().numpy().flatten()\n",
    "    \n",
    "    #print(\"y_pred_tag\")\n",
    "    #print(y_pred_tag)\n",
    "    #print(\"y_test\")\n",
    "    #print(y_test)\n",
    "    \n",
    "    acc = balanced_accuracy_score(y_pred_tag, y_test)\n",
    "    \n",
    "    acc = np.round(acc * 100, 2)\n",
    "    \n",
    "    return acc\n",
    "\n",
    "\"\"\"y_pred_tag = torch.round(y_pred)\n",
    "\n",
    "correct_results_sum = (y_pred_tag == y_test).sum().float()\n",
    "acc = correct_results_sum/y_test.shape[0]\n",
    "acc = torch.round(acc * 100)\n",
    "\n",
    "return acc\"\"\"\n",
    "\n",
    "\n",
    "base_size = 952\n",
    "    \n",
    "#  use gpu if available\n",
    "device = torch.device(\"cuda\" if torch.cuda.is_available() else \"cpu\")\n",
    "\n",
    "# create a model from `AE` autoencoder class\n",
    "# load it to the specified device, either gpu or cpu\n",
    "model = BinaryMLP(input_shape=base_size).to(device)\n",
    "\n",
    "# create an optimizer object\n",
    "# Adam optimizer with learning rate 1e-3\n",
    "optimizer = torch.optim.Adam(model.parameters(), lr=1e-3)\n",
    "\n",
    "# mean-squared error loss\n",
    "criterion = nn.BCELoss()"
   ]
  },
  {
   "cell_type": "code",
   "execution_count": 6,
   "id": "a70666c9",
   "metadata": {},
   "outputs": [
    {
     "name": "stderr",
     "output_type": "stream",
     "text": [
      "/home/Arthur.VIENS/miniconda3/envs/dl_torch/lib/python3.9/site-packages/sklearn/metrics/_classification.py:1987: UserWarning: y_pred contains classes not in y_true\n",
      "  warnings.warn(\"y_pred contains classes not in y_true\")\n",
      "/home/Arthur.VIENS/miniconda3/envs/dl_torch/lib/python3.9/site-packages/sklearn/metrics/_classification.py:1987: UserWarning: y_pred contains classes not in y_true\n",
      "  warnings.warn(\"y_pred contains classes not in y_true\")\n",
      "/home/Arthur.VIENS/miniconda3/envs/dl_torch/lib/python3.9/site-packages/sklearn/metrics/_classification.py:1987: UserWarning: y_pred contains classes not in y_true\n",
      "  warnings.warn(\"y_pred contains classes not in y_true\")\n",
      "/home/Arthur.VIENS/miniconda3/envs/dl_torch/lib/python3.9/site-packages/sklearn/metrics/_classification.py:1987: UserWarning: y_pred contains classes not in y_true\n",
      "  warnings.warn(\"y_pred contains classes not in y_true\")\n",
      "/home/Arthur.VIENS/miniconda3/envs/dl_torch/lib/python3.9/site-packages/sklearn/metrics/_classification.py:1987: UserWarning: y_pred contains classes not in y_true\n",
      "  warnings.warn(\"y_pred contains classes not in y_true\")\n",
      "/home/Arthur.VIENS/miniconda3/envs/dl_torch/lib/python3.9/site-packages/sklearn/metrics/_classification.py:1987: UserWarning: y_pred contains classes not in y_true\n",
      "  warnings.warn(\"y_pred contains classes not in y_true\")\n",
      "/home/Arthur.VIENS/miniconda3/envs/dl_torch/lib/python3.9/site-packages/sklearn/metrics/_classification.py:1987: UserWarning: y_pred contains classes not in y_true\n",
      "  warnings.warn(\"y_pred contains classes not in y_true\")\n",
      "/home/Arthur.VIENS/miniconda3/envs/dl_torch/lib/python3.9/site-packages/sklearn/metrics/_classification.py:1987: UserWarning: y_pred contains classes not in y_true\n",
      "  warnings.warn(\"y_pred contains classes not in y_true\")\n",
      "/home/Arthur.VIENS/miniconda3/envs/dl_torch/lib/python3.9/site-packages/sklearn/metrics/_classification.py:1987: UserWarning: y_pred contains classes not in y_true\n",
      "  warnings.warn(\"y_pred contains classes not in y_true\")\n",
      "/home/Arthur.VIENS/miniconda3/envs/dl_torch/lib/python3.9/site-packages/sklearn/metrics/_classification.py:1987: UserWarning: y_pred contains classes not in y_true\n",
      "  warnings.warn(\"y_pred contains classes not in y_true\")\n",
      "/home/Arthur.VIENS/miniconda3/envs/dl_torch/lib/python3.9/site-packages/sklearn/metrics/_classification.py:1987: UserWarning: y_pred contains classes not in y_true\n",
      "  warnings.warn(\"y_pred contains classes not in y_true\")\n",
      "/home/Arthur.VIENS/miniconda3/envs/dl_torch/lib/python3.9/site-packages/sklearn/metrics/_classification.py:1987: UserWarning: y_pred contains classes not in y_true\n",
      "  warnings.warn(\"y_pred contains classes not in y_true\")\n",
      "/home/Arthur.VIENS/miniconda3/envs/dl_torch/lib/python3.9/site-packages/sklearn/metrics/_classification.py:1987: UserWarning: y_pred contains classes not in y_true\n",
      "  warnings.warn(\"y_pred contains classes not in y_true\")\n",
      "/home/Arthur.VIENS/miniconda3/envs/dl_torch/lib/python3.9/site-packages/sklearn/metrics/_classification.py:1987: UserWarning: y_pred contains classes not in y_true\n",
      "  warnings.warn(\"y_pred contains classes not in y_true\")\n",
      "/home/Arthur.VIENS/miniconda3/envs/dl_torch/lib/python3.9/site-packages/sklearn/metrics/_classification.py:1987: UserWarning: y_pred contains classes not in y_true\n",
      "  warnings.warn(\"y_pred contains classes not in y_true\")\n",
      "/home/Arthur.VIENS/miniconda3/envs/dl_torch/lib/python3.9/site-packages/sklearn/metrics/_classification.py:1987: UserWarning: y_pred contains classes not in y_true\n",
      "  warnings.warn(\"y_pred contains classes not in y_true\")\n",
      "/home/Arthur.VIENS/miniconda3/envs/dl_torch/lib/python3.9/site-packages/sklearn/metrics/_classification.py:1987: UserWarning: y_pred contains classes not in y_true\n",
      "  warnings.warn(\"y_pred contains classes not in y_true\")\n",
      "/home/Arthur.VIENS/miniconda3/envs/dl_torch/lib/python3.9/site-packages/sklearn/metrics/_classification.py:1987: UserWarning: y_pred contains classes not in y_true\n",
      "  warnings.warn(\"y_pred contains classes not in y_true\")\n",
      "/home/Arthur.VIENS/miniconda3/envs/dl_torch/lib/python3.9/site-packages/sklearn/metrics/_classification.py:1987: UserWarning: y_pred contains classes not in y_true\n",
      "  warnings.warn(\"y_pred contains classes not in y_true\")\n",
      "/home/Arthur.VIENS/miniconda3/envs/dl_torch/lib/python3.9/site-packages/sklearn/metrics/_classification.py:1987: UserWarning: y_pred contains classes not in y_true\n",
      "  warnings.warn(\"y_pred contains classes not in y_true\")\n",
      "/home/Arthur.VIENS/miniconda3/envs/dl_torch/lib/python3.9/site-packages/sklearn/metrics/_classification.py:1987: UserWarning: y_pred contains classes not in y_true\n",
      "  warnings.warn(\"y_pred contains classes not in y_true\")\n",
      "/home/Arthur.VIENS/miniconda3/envs/dl_torch/lib/python3.9/site-packages/sklearn/metrics/_classification.py:1987: UserWarning: y_pred contains classes not in y_true\n",
      "  warnings.warn(\"y_pred contains classes not in y_true\")\n",
      "/home/Arthur.VIENS/miniconda3/envs/dl_torch/lib/python3.9/site-packages/sklearn/metrics/_classification.py:1987: UserWarning: y_pred contains classes not in y_true\n",
      "  warnings.warn(\"y_pred contains classes not in y_true\")\n",
      "/home/Arthur.VIENS/miniconda3/envs/dl_torch/lib/python3.9/site-packages/sklearn/metrics/_classification.py:1987: UserWarning: y_pred contains classes not in y_true\n",
      "  warnings.warn(\"y_pred contains classes not in y_true\")\n",
      "/home/Arthur.VIENS/miniconda3/envs/dl_torch/lib/python3.9/site-packages/sklearn/metrics/_classification.py:1987: UserWarning: y_pred contains classes not in y_true\n",
      "  warnings.warn(\"y_pred contains classes not in y_true\")\n",
      "/home/Arthur.VIENS/miniconda3/envs/dl_torch/lib/python3.9/site-packages/sklearn/metrics/_classification.py:1987: UserWarning: y_pred contains classes not in y_true\n",
      "  warnings.warn(\"y_pred contains classes not in y_true\")\n",
      "/home/Arthur.VIENS/miniconda3/envs/dl_torch/lib/python3.9/site-packages/sklearn/metrics/_classification.py:1987: UserWarning: y_pred contains classes not in y_true\n",
      "  warnings.warn(\"y_pred contains classes not in y_true\")\n",
      "/home/Arthur.VIENS/miniconda3/envs/dl_torch/lib/python3.9/site-packages/sklearn/metrics/_classification.py:1987: UserWarning: y_pred contains classes not in y_true\n",
      "  warnings.warn(\"y_pred contains classes not in y_true\")\n",
      "/home/Arthur.VIENS/miniconda3/envs/dl_torch/lib/python3.9/site-packages/sklearn/metrics/_classification.py:1987: UserWarning: y_pred contains classes not in y_true\n",
      "  warnings.warn(\"y_pred contains classes not in y_true\")\n",
      "/home/Arthur.VIENS/miniconda3/envs/dl_torch/lib/python3.9/site-packages/sklearn/metrics/_classification.py:1987: UserWarning: y_pred contains classes not in y_true\n",
      "  warnings.warn(\"y_pred contains classes not in y_true\")\n",
      "/home/Arthur.VIENS/miniconda3/envs/dl_torch/lib/python3.9/site-packages/sklearn/metrics/_classification.py:1987: UserWarning: y_pred contains classes not in y_true\n",
      "  warnings.warn(\"y_pred contains classes not in y_true\")\n",
      "/home/Arthur.VIENS/miniconda3/envs/dl_torch/lib/python3.9/site-packages/sklearn/metrics/_classification.py:1987: UserWarning: y_pred contains classes not in y_true\n",
      "  warnings.warn(\"y_pred contains classes not in y_true\")\n",
      "/home/Arthur.VIENS/miniconda3/envs/dl_torch/lib/python3.9/site-packages/sklearn/metrics/_classification.py:1987: UserWarning: y_pred contains classes not in y_true\n",
      "  warnings.warn(\"y_pred contains classes not in y_true\")\n",
      "/home/Arthur.VIENS/miniconda3/envs/dl_torch/lib/python3.9/site-packages/sklearn/metrics/_classification.py:1987: UserWarning: y_pred contains classes not in y_true\n",
      "  warnings.warn(\"y_pred contains classes not in y_true\")\n",
      "/home/Arthur.VIENS/miniconda3/envs/dl_torch/lib/python3.9/site-packages/sklearn/metrics/_classification.py:1987: UserWarning: y_pred contains classes not in y_true\n",
      "  warnings.warn(\"y_pred contains classes not in y_true\")\n",
      "/home/Arthur.VIENS/miniconda3/envs/dl_torch/lib/python3.9/site-packages/sklearn/metrics/_classification.py:1987: UserWarning: y_pred contains classes not in y_true\n",
      "  warnings.warn(\"y_pred contains classes not in y_true\")\n",
      "/home/Arthur.VIENS/miniconda3/envs/dl_torch/lib/python3.9/site-packages/sklearn/metrics/_classification.py:1987: UserWarning: y_pred contains classes not in y_true\n",
      "  warnings.warn(\"y_pred contains classes not in y_true\")\n",
      "/home/Arthur.VIENS/miniconda3/envs/dl_torch/lib/python3.9/site-packages/sklearn/metrics/_classification.py:1987: UserWarning: y_pred contains classes not in y_true\n",
      "  warnings.warn(\"y_pred contains classes not in y_true\")\n"
     ]
    },
    {
     "name": "stderr",
     "output_type": "stream",
     "text": [
      "/home/Arthur.VIENS/miniconda3/envs/dl_torch/lib/python3.9/site-packages/sklearn/metrics/_classification.py:1987: UserWarning: y_pred contains classes not in y_true\n",
      "  warnings.warn(\"y_pred contains classes not in y_true\")\n",
      "/home/Arthur.VIENS/miniconda3/envs/dl_torch/lib/python3.9/site-packages/sklearn/metrics/_classification.py:1987: UserWarning: y_pred contains classes not in y_true\n",
      "  warnings.warn(\"y_pred contains classes not in y_true\")\n",
      "/home/Arthur.VIENS/miniconda3/envs/dl_torch/lib/python3.9/site-packages/sklearn/metrics/_classification.py:1987: UserWarning: y_pred contains classes not in y_true\n",
      "  warnings.warn(\"y_pred contains classes not in y_true\")\n"
     ]
    },
    {
     "name": "stdout",
     "output_type": "stream",
     "text": [
      "Epoch 000: | Loss: 0.29729 | Acc: 84.715\n"
     ]
    },
    {
     "name": "stderr",
     "output_type": "stream",
     "text": [
      "/home/Arthur.VIENS/miniconda3/envs/dl_torch/lib/python3.9/site-packages/sklearn/metrics/_classification.py:1987: UserWarning: y_pred contains classes not in y_true\n",
      "  warnings.warn(\"y_pred contains classes not in y_true\")\n",
      "/home/Arthur.VIENS/miniconda3/envs/dl_torch/lib/python3.9/site-packages/sklearn/metrics/_classification.py:1987: UserWarning: y_pred contains classes not in y_true\n",
      "  warnings.warn(\"y_pred contains classes not in y_true\")\n",
      "/home/Arthur.VIENS/miniconda3/envs/dl_torch/lib/python3.9/site-packages/sklearn/metrics/_classification.py:1987: UserWarning: y_pred contains classes not in y_true\n",
      "  warnings.warn(\"y_pred contains classes not in y_true\")\n",
      "/home/Arthur.VIENS/miniconda3/envs/dl_torch/lib/python3.9/site-packages/sklearn/metrics/_classification.py:1987: UserWarning: y_pred contains classes not in y_true\n",
      "  warnings.warn(\"y_pred contains classes not in y_true\")\n",
      "/home/Arthur.VIENS/miniconda3/envs/dl_torch/lib/python3.9/site-packages/sklearn/metrics/_classification.py:1987: UserWarning: y_pred contains classes not in y_true\n",
      "  warnings.warn(\"y_pred contains classes not in y_true\")\n",
      "/home/Arthur.VIENS/miniconda3/envs/dl_torch/lib/python3.9/site-packages/sklearn/metrics/_classification.py:1987: UserWarning: y_pred contains classes not in y_true\n",
      "  warnings.warn(\"y_pred contains classes not in y_true\")\n",
      "/home/Arthur.VIENS/miniconda3/envs/dl_torch/lib/python3.9/site-packages/sklearn/metrics/_classification.py:1987: UserWarning: y_pred contains classes not in y_true\n",
      "  warnings.warn(\"y_pred contains classes not in y_true\")\n",
      "/home/Arthur.VIENS/miniconda3/envs/dl_torch/lib/python3.9/site-packages/sklearn/metrics/_classification.py:1987: UserWarning: y_pred contains classes not in y_true\n",
      "  warnings.warn(\"y_pred contains classes not in y_true\")\n"
     ]
    },
    {
     "name": "stdout",
     "output_type": "stream",
     "text": [
      "Epoch 001: | Loss: 0.17229 | Acc: 92.192\n"
     ]
    },
    {
     "name": "stderr",
     "output_type": "stream",
     "text": [
      "/home/Arthur.VIENS/miniconda3/envs/dl_torch/lib/python3.9/site-packages/sklearn/metrics/_classification.py:1987: UserWarning: y_pred contains classes not in y_true\n",
      "  warnings.warn(\"y_pred contains classes not in y_true\")\n"
     ]
    },
    {
     "name": "stdout",
     "output_type": "stream",
     "text": [
      "Epoch 002: | Loss: 0.10659 | Acc: 95.318\n"
     ]
    },
    {
     "name": "stderr",
     "output_type": "stream",
     "text": [
      "/home/Arthur.VIENS/miniconda3/envs/dl_torch/lib/python3.9/site-packages/sklearn/metrics/_classification.py:1987: UserWarning: y_pred contains classes not in y_true\n",
      "  warnings.warn(\"y_pred contains classes not in y_true\")\n",
      "/home/Arthur.VIENS/miniconda3/envs/dl_torch/lib/python3.9/site-packages/sklearn/metrics/_classification.py:1987: UserWarning: y_pred contains classes not in y_true\n",
      "  warnings.warn(\"y_pred contains classes not in y_true\")\n"
     ]
    },
    {
     "name": "stdout",
     "output_type": "stream",
     "text": [
      "Epoch 003: | Loss: 0.07249 | Acc: 96.697\n"
     ]
    },
    {
     "name": "stderr",
     "output_type": "stream",
     "text": [
      "/home/Arthur.VIENS/miniconda3/envs/dl_torch/lib/python3.9/site-packages/sklearn/metrics/_classification.py:1987: UserWarning: y_pred contains classes not in y_true\n",
      "  warnings.warn(\"y_pred contains classes not in y_true\")\n"
     ]
    },
    {
     "name": "stdout",
     "output_type": "stream",
     "text": [
      "Epoch 004: | Loss: 0.05669 | Acc: 97.389\n"
     ]
    },
    {
     "name": "stderr",
     "output_type": "stream",
     "text": [
      "/home/Arthur.VIENS/miniconda3/envs/dl_torch/lib/python3.9/site-packages/sklearn/metrics/_classification.py:1987: UserWarning: y_pred contains classes not in y_true\n",
      "  warnings.warn(\"y_pred contains classes not in y_true\")\n",
      "/home/Arthur.VIENS/miniconda3/envs/dl_torch/lib/python3.9/site-packages/sklearn/metrics/_classification.py:1987: UserWarning: y_pred contains classes not in y_true\n",
      "  warnings.warn(\"y_pred contains classes not in y_true\")\n",
      "/home/Arthur.VIENS/miniconda3/envs/dl_torch/lib/python3.9/site-packages/sklearn/metrics/_classification.py:1987: UserWarning: y_pred contains classes not in y_true\n",
      "  warnings.warn(\"y_pred contains classes not in y_true\")\n"
     ]
    },
    {
     "name": "stdout",
     "output_type": "stream",
     "text": [
      "Epoch 005: | Loss: 0.04481 | Acc: 98.010\n"
     ]
    },
    {
     "name": "stderr",
     "output_type": "stream",
     "text": [
      "/home/Arthur.VIENS/miniconda3/envs/dl_torch/lib/python3.9/site-packages/sklearn/metrics/_classification.py:1987: UserWarning: y_pred contains classes not in y_true\n",
      "  warnings.warn(\"y_pred contains classes not in y_true\")\n"
     ]
    },
    {
     "name": "stdout",
     "output_type": "stream",
     "text": [
      "Epoch 006: | Loss: 0.03797 | Acc: 98.297\n"
     ]
    },
    {
     "name": "stderr",
     "output_type": "stream",
     "text": [
      "/home/Arthur.VIENS/miniconda3/envs/dl_torch/lib/python3.9/site-packages/sklearn/metrics/_classification.py:1987: UserWarning: y_pred contains classes not in y_true\n",
      "  warnings.warn(\"y_pred contains classes not in y_true\")\n"
     ]
    },
    {
     "name": "stdout",
     "output_type": "stream",
     "text": [
      "Epoch 007: | Loss: 0.03724 | Acc: 98.327\n",
      "Epoch 008: | Loss: 0.03030 | Acc: 98.735\n",
      "Epoch 009: | Loss: 0.02414 | Acc: 98.934\n"
     ]
    }
   ],
   "source": [
    "epochs=10\n",
    "for epoch in range(epochs):\n",
    "    loss = 0\n",
    "    epoch_acc = 0\n",
    "    for batch_features, batch_labels in dataset.train_loader:\n",
    "        # reshape mini-batch data to [N, 941] matrix\n",
    "        # load it to the active device\n",
    "        batch_features = batch_features.view(-1, base_size).to(device)\n",
    "        batch_labels = batch_labels.view(-1, 1).to(device)\n",
    "        \n",
    "        # reset the gradients back to zero\n",
    "        # PyTorch accumulates gradients on subsequent backward passes\n",
    "        optimizer.zero_grad()\n",
    "        \n",
    "        # compute reconstructions\n",
    "        outputs = model(batch_features)\n",
    "        \n",
    "        # compute training reconstruction loss\n",
    "        train_loss = criterion(outputs, batch_labels)\n",
    "        acc = binary_acc(outputs, batch_labels)\n",
    "        \n",
    "        # compute accumulated gradients\n",
    "        train_loss.backward()\n",
    "        \n",
    "        # perform parameter update based on current gradients\n",
    "        optimizer.step()\n",
    "        \n",
    "        # add the mini-batch training loss to epoch loss\n",
    "        loss += train_loss.item()\n",
    "        epoch_acc += acc.item()\n",
    "    \n",
    "    # compute the epoch training loss\n",
    "    epoch_loss = loss / len(dataset.train_loader)\n",
    "    epoch_acc = epoch_acc / len(dataset.train_loader)\n",
    "    \n",
    "    # display the epoch training loss\n",
    "    print(f'Epoch {epoch+0:03}: | Loss: {epoch_loss:.5f} | Acc: {epoch_acc:.3f}')"
   ]
  },
  {
   "cell_type": "code",
   "execution_count": 7,
   "id": "4cb76778",
   "metadata": {},
   "outputs": [
    {
     "name": "stdout",
     "output_type": "stream",
     "text": [
      "Balanced score is 0.9175128330947508\n"
     ]
    }
   ],
   "source": [
    "from sklearn.metrics import confusion_matrix\n",
    "\n",
    "y_pred_list = []\n",
    "y_test = []\n",
    "model.eval()\n",
    "with torch.no_grad():\n",
    "    for X_batch, y_batch in dataset.test_loader:\n",
    "        X_batch = X_batch.to(device)\n",
    "        y_test.append(y_batch.cpu().numpy())\n",
    "        y_test_pred = model(X_batch)\n",
    "        y_pred_tag = torch.round(y_test_pred)\n",
    "        y_pred_list.append(y_pred_tag.cpu().numpy())\n",
    "    y_test = np.asarray(y_test).flatten().tolist()\n",
    "y_pred_list = [a.squeeze().tolist() for a in y_pred_list]\n",
    "\n",
    "confusion_matrix(y_test, y_pred_list)\n",
    "print(f\"Balanced score is {balanced_accuracy_score(y_test, y_pred_list)}\")"
   ]
  },
  {
   "cell_type": "code",
   "execution_count": null,
   "id": "dfe68821",
   "metadata": {},
   "outputs": [],
   "source": []
  },
  {
   "cell_type": "code",
   "execution_count": null,
   "id": "03e7c160",
   "metadata": {},
   "outputs": [],
   "source": []
  }
 ],
 "metadata": {
  "kernelspec": {
   "display_name": "Python 3 (ipykernel)",
   "language": "python",
   "name": "python3"
  },
  "language_info": {
   "codemirror_mode": {
    "name": "ipython",
    "version": 3
   },
   "file_extension": ".py",
   "mimetype": "text/x-python",
   "name": "python",
   "nbconvert_exporter": "python",
   "pygments_lexer": "ipython3",
   "version": "3.9.7"
  }
 },
 "nbformat": 4,
 "nbformat_minor": 5
}
